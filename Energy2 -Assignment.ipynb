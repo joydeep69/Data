{
 "cells": [
  {
   "cell_type": "code",
   "execution_count": 1,
   "metadata": {},
   "outputs": [
    {
     "name": "stderr",
     "output_type": "stream",
     "text": [
      "C:\\Users\\joydeep\\Anaconda3\\lib\\site-packages\\sklearn\\cross_validation.py:41: DeprecationWarning: This module was deprecated in version 0.18 in favor of the model_selection module into which all the refactored classes and functions are moved. Also note that the interface of the new CV iterators are different from that of this module. This module will be removed in 0.20.\n",
      "  \"This module will be removed in 0.20.\", DeprecationWarning)\n"
     ]
    }
   ],
   "source": [
    "import pandas as pd \n",
    "import numpy as np\n",
    "import matplotlib.pyplot as plt \n",
    "% matplotlib inline\n",
    "\n",
    "\n",
    "from sklearn.preprocessing import StandardScaler\n",
    "\n",
    "from sklearn.preprocessing import PolynomialFeatures\n",
    "\n",
    "from sklearn import cross_validation as cv\n",
    "from scipy import linalg\n",
    "\n",
    "\n",
    "\n",
    "from sklearn import linear_model\n",
    "from sklearn import metrics\n",
    "from sklearn.metrics import mean_squared_error\n",
    "from sklearn.model_selection import GridSearchCV\n"
   ]
  },
  {
   "cell_type": "code",
   "execution_count": 75,
   "metadata": {},
   "outputs": [],
   "source": [
    "df=pd.read_csv(\"C:\\\\Users\\\\joydeep\\\\Desktop\\\\IPL CODES\\\\CASE STUDY\\\\Energy\\\\Energy1\\\\energydata_complete.csv\")\n"
   ]
  },
  {
   "cell_type": "code",
   "execution_count": 76,
   "metadata": {},
   "outputs": [
    {
     "data": {
      "text/html": [
       "<div>\n",
       "<style scoped>\n",
       "    .dataframe tbody tr th:only-of-type {\n",
       "        vertical-align: middle;\n",
       "    }\n",
       "\n",
       "    .dataframe tbody tr th {\n",
       "        vertical-align: top;\n",
       "    }\n",
       "\n",
       "    .dataframe thead th {\n",
       "        text-align: right;\n",
       "    }\n",
       "</style>\n",
       "<table border=\"1\" class=\"dataframe\">\n",
       "  <thead>\n",
       "    <tr style=\"text-align: right;\">\n",
       "      <th></th>\n",
       "      <th>date</th>\n",
       "      <th>Appliances</th>\n",
       "      <th>lights</th>\n",
       "      <th>T1</th>\n",
       "      <th>RH_1</th>\n",
       "      <th>T2</th>\n",
       "      <th>RH_2</th>\n",
       "      <th>T3</th>\n",
       "      <th>RH_3</th>\n",
       "      <th>T4</th>\n",
       "      <th>...</th>\n",
       "      <th>T9</th>\n",
       "      <th>RH_9</th>\n",
       "      <th>T_out</th>\n",
       "      <th>Press_mm_hg</th>\n",
       "      <th>RH_out</th>\n",
       "      <th>Windspeed</th>\n",
       "      <th>Visibility</th>\n",
       "      <th>Tdewpoint</th>\n",
       "      <th>rv1</th>\n",
       "      <th>rv2</th>\n",
       "    </tr>\n",
       "  </thead>\n",
       "  <tbody>\n",
       "    <tr>\n",
       "      <th>0</th>\n",
       "      <td>11-01-2016 17:00</td>\n",
       "      <td>60</td>\n",
       "      <td>30</td>\n",
       "      <td>19.89</td>\n",
       "      <td>47.596667</td>\n",
       "      <td>19.2</td>\n",
       "      <td>44.7900</td>\n",
       "      <td>19.79</td>\n",
       "      <td>44.73</td>\n",
       "      <td>19.0</td>\n",
       "      <td>...</td>\n",
       "      <td>17.033333</td>\n",
       "      <td>45.53</td>\n",
       "      <td>6.60</td>\n",
       "      <td>733.5</td>\n",
       "      <td>92.0</td>\n",
       "      <td>7.000000</td>\n",
       "      <td>63.000000</td>\n",
       "      <td>5.3</td>\n",
       "      <td>13.275433</td>\n",
       "      <td>13.275433</td>\n",
       "    </tr>\n",
       "    <tr>\n",
       "      <th>1</th>\n",
       "      <td>11-01-2016 17:10</td>\n",
       "      <td>60</td>\n",
       "      <td>30</td>\n",
       "      <td>19.89</td>\n",
       "      <td>46.693333</td>\n",
       "      <td>19.2</td>\n",
       "      <td>44.7225</td>\n",
       "      <td>19.79</td>\n",
       "      <td>44.79</td>\n",
       "      <td>19.0</td>\n",
       "      <td>...</td>\n",
       "      <td>17.066667</td>\n",
       "      <td>45.56</td>\n",
       "      <td>6.48</td>\n",
       "      <td>733.6</td>\n",
       "      <td>92.0</td>\n",
       "      <td>6.666667</td>\n",
       "      <td>59.166667</td>\n",
       "      <td>5.2</td>\n",
       "      <td>18.606195</td>\n",
       "      <td>18.606195</td>\n",
       "    </tr>\n",
       "  </tbody>\n",
       "</table>\n",
       "<p>2 rows × 29 columns</p>\n",
       "</div>"
      ],
      "text/plain": [
       "               date  Appliances  lights     T1       RH_1    T2     RH_2  \\\n",
       "0  11-01-2016 17:00          60      30  19.89  47.596667  19.2  44.7900   \n",
       "1  11-01-2016 17:10          60      30  19.89  46.693333  19.2  44.7225   \n",
       "\n",
       "      T3   RH_3    T4    ...             T9   RH_9  T_out  Press_mm_hg  \\\n",
       "0  19.79  44.73  19.0    ...      17.033333  45.53   6.60        733.5   \n",
       "1  19.79  44.79  19.0    ...      17.066667  45.56   6.48        733.6   \n",
       "\n",
       "   RH_out  Windspeed  Visibility  Tdewpoint        rv1        rv2  \n",
       "0    92.0   7.000000   63.000000        5.3  13.275433  13.275433  \n",
       "1    92.0   6.666667   59.166667        5.2  18.606195  18.606195  \n",
       "\n",
       "[2 rows x 29 columns]"
      ]
     },
     "execution_count": 76,
     "metadata": {},
     "output_type": "execute_result"
    }
   ],
   "source": [
    "df.head(2)\n"
   ]
  },
  {
   "cell_type": "code",
   "execution_count": 77,
   "metadata": {
    "scrolled": true
   },
   "outputs": [
    {
     "data": {
      "text/plain": [
       "date           0\n",
       "Appliances     0\n",
       "lights         0\n",
       "T1             0\n",
       "RH_1           0\n",
       "T2             0\n",
       "RH_2           0\n",
       "T3             0\n",
       "RH_3           0\n",
       "T4             0\n",
       "RH_4           0\n",
       "T5             0\n",
       "RH_5           0\n",
       "T6             0\n",
       "RH_6           0\n",
       "T7             0\n",
       "RH_7           0\n",
       "T8             0\n",
       "RH_8           0\n",
       "T9             0\n",
       "RH_9           0\n",
       "T_out          0\n",
       "Press_mm_hg    0\n",
       "RH_out         0\n",
       "Windspeed      0\n",
       "Visibility     0\n",
       "Tdewpoint      0\n",
       "rv1            0\n",
       "rv2            0\n",
       "dtype: int64"
      ]
     },
     "execution_count": 77,
     "metadata": {},
     "output_type": "execute_result"
    }
   ],
   "source": [
    "df.isnull().sum()"
   ]
  },
  {
   "cell_type": "code",
   "execution_count": 78,
   "metadata": {
    "scrolled": false
   },
   "outputs": [
    {
     "data": {
      "text/plain": [
       "date            object\n",
       "Appliances       int64\n",
       "lights           int64\n",
       "T1             float64\n",
       "RH_1           float64\n",
       "T2             float64\n",
       "RH_2           float64\n",
       "T3             float64\n",
       "RH_3           float64\n",
       "T4             float64\n",
       "RH_4           float64\n",
       "T5             float64\n",
       "RH_5           float64\n",
       "T6             float64\n",
       "RH_6           float64\n",
       "T7             float64\n",
       "RH_7           float64\n",
       "T8             float64\n",
       "RH_8           float64\n",
       "T9             float64\n",
       "RH_9           float64\n",
       "T_out          float64\n",
       "Press_mm_hg    float64\n",
       "RH_out         float64\n",
       "Windspeed      float64\n",
       "Visibility     float64\n",
       "Tdewpoint      float64\n",
       "rv1            float64\n",
       "rv2            float64\n",
       "dtype: object"
      ]
     },
     "execution_count": 78,
     "metadata": {},
     "output_type": "execute_result"
    }
   ],
   "source": [
    "df.dtypes"
   ]
  },
  {
   "cell_type": "code",
   "execution_count": 81,
   "metadata": {},
   "outputs": [],
   "source": [
    "X=data.iloc[:,[3,4,5,6,7,8,9,10,11,12,13,14,15,16,17,18,19,20,22,23,24,25,26,27,28]]\n",
    "\n",
    "y=data.iloc[:,-8]\n",
    "\n"
   ]
  },
  {
   "cell_type": "code",
   "execution_count": 79,
   "metadata": {},
   "outputs": [
    {
     "data": {
      "text/plain": [
       "pandas.core.frame.DataFrame"
      ]
     },
     "execution_count": 79,
     "metadata": {},
     "output_type": "execute_result"
    }
   ],
   "source": [
    "\n",
    "type(X)\n",
    "\n",
    "\n"
   ]
  },
  {
   "cell_type": "code",
   "execution_count": 82,
   "metadata": {},
   "outputs": [
    {
     "data": {
      "text/plain": [
       "pandas.core.series.Series"
      ]
     },
     "execution_count": 82,
     "metadata": {},
     "output_type": "execute_result"
    }
   ],
   "source": [
    "type(y)"
   ]
  },
  {
   "cell_type": "code",
   "execution_count": 83,
   "metadata": {},
   "outputs": [
    {
     "data": {
      "text/plain": [
       "(19735, 25)"
      ]
     },
     "execution_count": 83,
     "metadata": {},
     "output_type": "execute_result"
    }
   ],
   "source": [
    "X.shape"
   ]
  },
  {
   "cell_type": "code",
   "execution_count": 84,
   "metadata": {},
   "outputs": [
    {
     "data": {
      "text/plain": [
       "(19735,)"
      ]
     },
     "execution_count": 84,
     "metadata": {},
     "output_type": "execute_result"
    }
   ],
   "source": [
    "y.shape"
   ]
  },
  {
   "cell_type": "code",
   "execution_count": 85,
   "metadata": {},
   "outputs": [
    {
     "data": {
      "text/plain": [
       "0    6.60\n",
       "1    6.48\n",
       "2    6.37\n",
       "Name: T_out, dtype: float64"
      ]
     },
     "execution_count": 85,
     "metadata": {},
     "output_type": "execute_result"
    }
   ],
   "source": [
    "y[0:3]\n"
   ]
  },
  {
   "cell_type": "code",
   "execution_count": 166,
   "metadata": {},
   "outputs": [
    {
     "data": {
      "text/plain": [
       "numpy.ndarray"
      ]
     },
     "execution_count": 166,
     "metadata": {},
     "output_type": "execute_result"
    }
   ],
   "source": [
    "# Scale data  ...X becomes Numpy array & Yis pandas core series \n",
    "scaler = StandardScaler()\n",
    "scaler.fit(X)\n",
    "X = scaler.transform(X)\n",
    "\n",
    "type(X)\n",
    "type(X)\n",
    "\n",
    "\n",
    "\n"
   ]
  },
  {
   "cell_type": "code",
   "execution_count": 175,
   "metadata": {
    "scrolled": false
   },
   "outputs": [
    {
     "name": "stdout",
     "output_type": "stream",
     "text": [
      "<class 'numpy.ndarray'>\n",
      "<class 'pandas.core.series.Series'>\n"
     ]
    },
    {
     "data": {
      "text/plain": [
       "Ridge(alpha=2, copy_X=True, fit_intercept=True, max_iter=None,\n",
       "   normalize=False, random_state=None, solver='auto', tol=0.001)"
      ]
     },
     "execution_count": 175,
     "metadata": {},
     "output_type": "execute_result"
    }
   ],
   "source": [
    "\n",
    "# Building the modle on the whole data set \n",
    "# Create objects of the model and fit models  and finally eyeball the model \n",
    "\n",
    "from sklearn import linear_model\n",
    "from sklearn.metrics import mean_squared_error\n",
    "# Create lasso and ridge objects\n",
    "linear=linear_model.LinearRegression()\n",
    "lasso = linear_model.Lasso()\n",
    "ridge = linear_model.Ridge()\n",
    "elastic=linear_model.ElasticNet()\n",
    "# Fit the models\n",
    "linear.fit(X,y)\n",
    "lasso.fit(X, y)\n",
    "ridge.fit(X, y)\n",
    "elastic.fit(X,y)\n",
    "\n",
    "print(type(X))\n",
    "print(type(y))\n",
    "\n",
    "elastic\n",
    "ridge\n",
    "\n"
   ]
  },
  {
   "cell_type": "code",
   "execution_count": 215,
   "metadata": {},
   "outputs": [
    {
     "name": "stdout",
     "output_type": "stream",
     "text": [
      "Linear-AdjR2:R2  (0.9931724932070761, 0.9931811426278637)\n",
      "Lasso-AdjR2:R2  (0.8085308987529466, 0.8087734612101867)\n",
      "Ridge-AdjR2:R2  (0.9931723797624328, 0.9931810293269376)\n",
      "Elastic-AdjR2:R2  (0.9027617329518876, 0.9028849191622961)\n",
      "\n",
      "LinearRsq 0.9931811426278637\n",
      "LassoRsq 0.8087734612101867\n",
      "RidgeRsq 0.9931810293269377\n",
      "ElasticRsq 0.9028849191622961\n",
      "\n",
      "Type of Rsquared is <class 'numpy.float64'>\n",
      "\n",
      "Linear_RSME  0.19286882778905093\n",
      "Lasso_RSME  5.4087710544081835\n",
      "Ridge_RSME  0.1928720324633227\n",
      "Elasticr_RSME  2.7468637015850508\n",
      "\n",
      "Type of RSME <class 'numpy.float64'>\n",
      "\n",
      "type of coef_ is <class 'numpy.ndarray'>\n",
      "\n",
      "coef_ of Linear is  [ 0.22 -0.1  -0.28 -0.21 -0.01  0.09 -0.01 -0.08  0.22 -0.03  1.17  0.39\n",
      "  0.08 -0.03 -0.02  0.14 -0.11  0.03 -0.01 -2.75 -0.09  0.02  3.59  0.\n",
      "  0.  ]\n",
      "\n",
      "coef_ of Lasso is  [ 0.    0.    0.    0.    0.    0.    0.    0.    0.   -0.    3.18 -0.\n",
      "  0.    0.    0.    0.    0.    0.   -0.   -0.    0.   -0.    0.   -0.\n",
      " -0.  ]\n",
      "\n",
      "coef_ of Ridge is  [ 0.22 -0.1  -0.28 -0.21 -0.01  0.09 -0.01 -0.08  0.22 -0.03  1.18  0.39\n",
      "  0.08 -0.03 -0.02  0.14 -0.11  0.03 -0.01 -2.75 -0.09  0.02  3.59  0.\n",
      "  0.  ]\n",
      "\n",
      "coef_ of Elastic is  [ 0.12  0.01  0.55  0.    0.19  0.    0.07  0.06  0.06 -0.    1.59 -0.24\n",
      "  0.03  0.01  0.    0.    0.08  0.   -0.   -0.72  0.02 -0.    1.18 -0.\n",
      " -0.  ]\n",
      "\n",
      "\n",
      "type of intercept is <class 'numpy.float64'>\n",
      "\n",
      "intercept of Linear is  7.412579538890296\n",
      "intercept of Lasso is  7.412579538890296\n",
      "intercept of Ridge is  7.412579538890296\n",
      "intercept_ of Elastic is  7.412579538890296\n",
      "\n"
     ]
    },
    {
     "data": {
      "text/plain": [
       "(inf, 5.408771054408166)"
      ]
     },
     "execution_count": 215,
     "metadata": {},
     "output_type": "execute_result"
    }
   ],
   "source": [
    "# Model Evaluation : R2,Adj-R2,coef_,intercept_,RSME,MAPE,Pvalue\n",
    "\n",
    "#1 Adj_RSQUARED and RSQUARE\n",
    "\n",
    "def AdjustedRSquare(model,X,Y):\n",
    "    YHat = model.predict(X)\n",
    "    n,k = X.shape\n",
    "    sse = np.sum(np.square(YHat-Y),axis=0)\n",
    "    sst = np.sum(np.square(Y-np.mean(Y)),axis=0)\n",
    "    R2 = 1- sse/sst\n",
    "    adjR2 = R2-(1-R2)*(float(k)/(n-k-1))\n",
    "    return adjR2, R2\n",
    "\n",
    "print(\"Linear-AdjR2:R2 \",AdjustedRSquare(linear,X,y))\n",
    "print(\"Lasso-AdjR2:R2 \",AdjustedRSquare(lasso,X,y))\n",
    "print(\"Ridge-AdjR2:R2 \",AdjustedRSquare(ridge,X,y))\n",
    "print(\"Elastic-AdjR2:R2 \",AdjustedRSquare(elastic,X,y))\n",
    "\n",
    "print(\"\")\n",
    "\n",
    "# Re-check\n",
    "print(\"LinearRsq\", linear.score(X,y))\n",
    "print(\"LassoRsq\", lasso.score(X,y))\n",
    "print(\"RidgeRsq\", ridge.score(X,y))\n",
    "print(\"ElasticRsq\", elastic.score(X,y))\n",
    "\n",
    "print(\"\")\n",
    "print(\"Type of Rsquared is\",type(linear.score(X,y)))\n",
    "print(\"\")\n",
    "\n",
    "#2 RSME\n",
    "\n",
    "print(\"Linear_RSME \",mean_squared_error(y,linear.predict(X)))\n",
    "print(\"Lasso_RSME \",mean_squared_error(y,lasso.predict(X)))\n",
    "print(\"Ridge_RSME \",mean_squared_error(y,ridge.predict(X)))\n",
    "print(\"Elasticr_RSME \",mean_squared_error(y,elastic.predict(X)))\n",
    "print(\"\")\n",
    "print(\"Type of RSME\",type(mean_squared_error(y,linear.predict(X))))\n",
    "print(\"\")\n",
    "\n",
    "#3 Coeff_\n",
    "print(\"type of coef_ is\", type(lasso.coef_))\n",
    "print(\"\")\n",
    "print(\"coef_ of Linear is \",np.round(linear.coef_,2))\n",
    "print(\"\")\n",
    "print(\"coef_ of Lasso is \",np.round(lasso.coef_,2))\n",
    "print(\"\")\n",
    "print(\"coef_ of Ridge is \",np.round(ridge.coef_,2))\n",
    "print(\"\")\n",
    "print(\"coef_ of Elastic is \",np.round(elastic.coef_,2))\n",
    "print(\"\")\n",
    "print(\"\")\n",
    "\n",
    "# 4 Intercept \n",
    "print(\"type of intercept is\", type(ridge.intercept_))\n",
    "print(\"\")\n",
    "\n",
    "print(\"intercept of Linear is \",linear.intercept_)\n",
    "print(\"intercept of Lasso is \",lasso.intercept_)\n",
    "print(\"intercept of Ridge is \",ridge.intercept_)\n",
    "print(\"intercept_ of Elastic is \",elastic.intercept_)\n",
    "print(\"\")\n",
    "\n",
    "#5 Pvalue \n",
    "\n",
    "def ReturnPValue(model,X,Y):\n",
    "    YHat = model.predict(X)\n",
    "    n,k = X.shape\n",
    "    sse = np.sum(np.square(YHat-Y),axis=0)\n",
    "    x = np.hstack((np.ones((n,1)),np.matrix(X)))\n",
    "    df = float(n-k-1)\n",
    "    sampleVar = sse/df\n",
    "    sampleVarianceX = x.T*x\n",
    "    covarianceMatrix = linalg.sqrtm(sampleVar*sampleVarianceX.I)\n",
    "    se = covarianceMatrix.diagonal()[1:]\n",
    "    betasTstat = np.zeros(len(se))\n",
    "    for i in range(len(se)):\n",
    "        betasTstat[i] = model.coef_[i]/se[i]\n",
    "    betasPvalue = 1- stats.t.cdf(abs(betasTstat),df)\n",
    "    return betasPvalue\n",
    "\n",
    "#np.round(ReturnPValue(lasso,X,y),2)\n",
    "\n",
    "# 6 MAPE & MSSE\n",
    "\n",
    "\n",
    "def ErrorMetric(model,X,Y):\n",
    "    Yhat = model.predict(X)\n",
    "    MAPE = np.mean(abs(Y-Yhat)/Y)*100\n",
    "    MSSE = np.mean(np.square(Y-Yhat))\n",
    "    return MAPE, MSSE\n",
    "\n",
    "#ErrorMetric(linear,X,y)\n",
    "#np.mean((y-linear.predict(X))\n",
    "\n",
    "ErrorMetric(lasso,X,y)\n",
    "    \n"
   ]
  },
  {
   "cell_type": "code",
   "execution_count": 226,
   "metadata": {},
   "outputs": [
    {
     "name": "stdout",
     "output_type": "stream",
     "text": [
      "(14801, 25)\n",
      "(4934, 25)\n",
      "(14801,)\n",
      "(4934,)\n",
      "(19735, 29)\n",
      "ridge best parameters: {'alpha': 0.6}\n",
      "lasso best parameters: {'alpha': 0.1}\n",
      "elastic best parameters: {'alpha': 0.1}\n",
      "\n",
      "ridge score: 0.9936149357894261\n",
      "lasso score: 0.9900041810345072\n",
      "linear score: 0.9936152468503304\n",
      "elastic score: 0.9866801997474123\n",
      "\n",
      "ridge MSE: 0.17796579608962068\n",
      "lasso MSE: 0.2786054800851813\n",
      "linear MSE: 0.17795712613742332\n",
      "elastic MSE: 0.3712521562086877\n",
      "\n",
      "ridge best estimator coef: [ 0.21 -0.1  -0.28 -0.21 -0.    0.1  -0.01 -0.09  0.25 -0.03  1.21  0.41\n",
      "  0.07 -0.03 -0.01  0.13 -0.12  0.03 -0.01 -2.74 -0.08  0.02  3.57  0.\n",
      "  0.  ]\n",
      "lasso best estimator coef: [ 0.1   0.    0.   -0.    0.    0.    0.    0.    0.    0.    1.6  -0.\n",
      "  0.    0.    0.    0.    0.    0.   -0.   -2.12  0.    0.    2.91 -0.\n",
      " -0.  ]\n",
      "linear coef: [ 0.21 -0.1  -0.28 -0.21 -0.    0.1  -0.01 -0.09  0.25 -0.03  1.2   0.41\n",
      "  0.07 -0.03 -0.01  0.13 -0.12  0.03 -0.01 -2.75 -0.09  0.02  3.57  0.\n",
      "  0.  ]\n",
      "elastic coeff: [ 0.19  0.    0.07  0.    0.    0.    0.    0.    0.08 -0.    2.01 -0.\n",
      "  0.01  0.1   0.    0.02  0.    0.03  0.   -1.79  0.02  0.    2.27 -0.\n",
      " -0.  ]\n"
     ]
    }
   ],
   "source": [
    "\n",
    "# Building the model with Train/Test Split \n",
    "\n",
    "from sklearn.model_selection import train_test_split\n",
    "from sklearn.model_selection import GridSearchCV\n",
    "\n",
    "X_train, X_test, y_train, y_test = train_test_split(X, y, test_size=0.25, random_state=101)\n",
    "parameters = {'alpha': np.concatenate((np.arange(0.1,2,0.1), np.arange(2, 5, 0.5), np.arange(5, 25, 1)))}\n",
    "\n",
    "print(np.shape(X_train))\n",
    "print(np.shape(X_test))\n",
    "print(np.shape(y_train))\n",
    "print(np.shape(y_test))\n",
    "print(data.shape)\n",
    "\n",
    "\n",
    "# In[178]:\n",
    "\n",
    "\n",
    "parameters\n",
    "\n",
    "\n",
    "# In[179]:\n",
    "\n",
    "\n",
    "# Fit all the models in Grid Search Cross Validation .\n",
    "\n",
    "linear = linear_model.LinearRegression()\n",
    "lasso = linear_model.Lasso()\n",
    "ridge = linear_model.Ridge()\n",
    "elastic=linear_model.ElasticNet()\n",
    "\n",
    "gridlasso = GridSearchCV(lasso, parameters,scoring=\"r2\")\n",
    "gridridge = GridSearchCV(ridge, parameters, scoring ='r2')\n",
    "gridelastic=GridSearchCV(elastic,parameters,scoring=\"r2\")\n",
    "\n",
    "\n",
    "\n",
    "gridlasso.fit(X_train, y_train)\n",
    "gridridge.fit(X_train, y_train)\n",
    "gridelastic.fit(X_train,y_train)\n",
    "linear.fit(X_train, y_train)\n",
    "\n",
    "\n",
    "# In[180]:\n",
    "\n",
    "\n",
    "# Print the best parameters, R-squared scores, MSE, and coefficients\n",
    "\n",
    "print(\"ridge best parameters:\", gridridge.best_params_)\n",
    "print(\"lasso best parameters:\", gridlasso.best_params_)\n",
    "print(\"elastic best parameters:\",gridelastic.best_params_)\n",
    "print(\"\")\n",
    "print(\"ridge score:\", gridridge.score(X_test, y_test))\n",
    "print(\"lasso score:\", gridlasso.score(X_test, y_test))\n",
    "print(\"linear score:\", linear.score(X_test, y_test))\n",
    "print(\"elastic score:\",gridelastic.score(X_test,y_test))\n",
    "print(\"\")\n",
    "\n",
    "print(\"ridge MSE:\", mean_squared_error(y_test, gridridge.predict(X_test)))\n",
    "print(\"lasso MSE:\", mean_squared_error(y_test, gridlasso.predict(X_test)))\n",
    "print(\"linear MSE:\", mean_squared_error(y_test, linear.predict(X_test)))\n",
    "print(\"elastic MSE:\", mean_squared_error(y_test,gridelastic.predict(X_test)))\n",
    "print(\"\")\n",
    "\n",
    "\n",
    "print(\"ridge best estimator coef:\", np.round(gridridge.best_estimator_.coef_,2))\n",
    "print(\"lasso best estimator coef:\", np.round(gridlasso.best_estimator_.coef_,2))\n",
    "print(\"linear coef:\", np.round(linear.coef_,2))\n",
    "print(\"elastic coeff:\",np.round(gridelastic.best_estimator_.coef_,2))\n",
    "\n"
   ]
  },
  {
   "cell_type": "code",
   "execution_count": 217,
   "metadata": {},
   "outputs": [
    {
     "data": {
      "text/html": [
       "<div>\n",
       "<style scoped>\n",
       "    .dataframe tbody tr th:only-of-type {\n",
       "        vertical-align: middle;\n",
       "    }\n",
       "\n",
       "    .dataframe tbody tr th {\n",
       "        vertical-align: top;\n",
       "    }\n",
       "\n",
       "    .dataframe thead th {\n",
       "        text-align: right;\n",
       "    }\n",
       "</style>\n",
       "<table border=\"1\" class=\"dataframe\">\n",
       "  <thead>\n",
       "    <tr style=\"text-align: right;\">\n",
       "      <th></th>\n",
       "      <th>0</th>\n",
       "      <th>1</th>\n",
       "      <th>2</th>\n",
       "      <th>3</th>\n",
       "      <th>4</th>\n",
       "      <th>5</th>\n",
       "      <th>6</th>\n",
       "      <th>7</th>\n",
       "      <th>8</th>\n",
       "      <th>9</th>\n",
       "      <th>...</th>\n",
       "      <th>15</th>\n",
       "      <th>16</th>\n",
       "      <th>17</th>\n",
       "      <th>18</th>\n",
       "      <th>19</th>\n",
       "      <th>20</th>\n",
       "      <th>21</th>\n",
       "      <th>22</th>\n",
       "      <th>23</th>\n",
       "      <th>24</th>\n",
       "    </tr>\n",
       "  </thead>\n",
       "  <tbody>\n",
       "    <tr>\n",
       "      <th>0</th>\n",
       "      <td>-1.118645</td>\n",
       "      <td>1.843821</td>\n",
       "      <td>-0.520411</td>\n",
       "      <td>1.073683</td>\n",
       "      <td>-1.235063</td>\n",
       "      <td>1.686130</td>\n",
       "      <td>-0.908217</td>\n",
       "      <td>1.506438</td>\n",
       "      <td>-1.314903</td>\n",
       "      <td>0.471160</td>\n",
       "      <td>...</td>\n",
       "      <td>1.141572</td>\n",
       "      <td>-1.217324</td>\n",
       "      <td>0.958136</td>\n",
       "      <td>-2.976328</td>\n",
       "      <td>0.82208</td>\n",
       "      <td>1.207694</td>\n",
       "      <td>2.091596</td>\n",
       "      <td>0.366854</td>\n",
       "      <td>-0.807974</td>\n",
       "      <td>-0.807974</td>\n",
       "    </tr>\n",
       "    <tr>\n",
       "      <th>1</th>\n",
       "      <td>-1.118645</td>\n",
       "      <td>1.616807</td>\n",
       "      <td>-0.520411</td>\n",
       "      <td>1.057097</td>\n",
       "      <td>-1.235063</td>\n",
       "      <td>1.704566</td>\n",
       "      <td>-0.908217</td>\n",
       "      <td>1.604528</td>\n",
       "      <td>-1.314903</td>\n",
       "      <td>0.471160</td>\n",
       "      <td>...</td>\n",
       "      <td>1.134554</td>\n",
       "      <td>-1.200778</td>\n",
       "      <td>0.965363</td>\n",
       "      <td>-2.962813</td>\n",
       "      <td>0.82208</td>\n",
       "      <td>1.071703</td>\n",
       "      <td>1.766584</td>\n",
       "      <td>0.343017</td>\n",
       "      <td>-0.440240</td>\n",
       "      <td>-0.440240</td>\n",
       "    </tr>\n",
       "    <tr>\n",
       "      <th>2</th>\n",
       "      <td>-1.118645</td>\n",
       "      <td>1.517959</td>\n",
       "      <td>-0.520411</td>\n",
       "      <td>1.033550</td>\n",
       "      <td>-1.235063</td>\n",
       "      <td>1.748608</td>\n",
       "      <td>-0.944115</td>\n",
       "      <td>1.580918</td>\n",
       "      <td>-1.314903</td>\n",
       "      <td>0.458968</td>\n",
       "      <td>...</td>\n",
       "      <td>1.109032</td>\n",
       "      <td>-1.233869</td>\n",
       "      <td>0.950910</td>\n",
       "      <td>-2.949298</td>\n",
       "      <td>0.82208</td>\n",
       "      <td>0.935713</td>\n",
       "      <td>1.441572</td>\n",
       "      <td>0.319180</td>\n",
       "      <td>0.252109</td>\n",
       "      <td>0.252109</td>\n",
       "    </tr>\n",
       "    <tr>\n",
       "      <th>3</th>\n",
       "      <td>-1.118645</td>\n",
       "      <td>1.459321</td>\n",
       "      <td>-0.520411</td>\n",
       "      <td>1.024540</td>\n",
       "      <td>-1.235063</td>\n",
       "      <td>1.769092</td>\n",
       "      <td>-0.962063</td>\n",
       "      <td>1.542526</td>\n",
       "      <td>-1.314903</td>\n",
       "      <td>0.458968</td>\n",
       "      <td>...</td>\n",
       "      <td>1.082233</td>\n",
       "      <td>-1.233869</td>\n",
       "      <td>0.926821</td>\n",
       "      <td>-2.935783</td>\n",
       "      <td>0.82208</td>\n",
       "      <td>0.799723</td>\n",
       "      <td>1.116559</td>\n",
       "      <td>0.295343</td>\n",
       "      <td>1.408801</td>\n",
       "      <td>1.408801</td>\n",
       "    </tr>\n",
       "    <tr>\n",
       "      <th>4</th>\n",
       "      <td>-1.118645</td>\n",
       "      <td>1.526336</td>\n",
       "      <td>-0.520411</td>\n",
       "      <td>1.009797</td>\n",
       "      <td>-1.235063</td>\n",
       "      <td>1.769092</td>\n",
       "      <td>-0.962063</td>\n",
       "      <td>1.497991</td>\n",
       "      <td>-1.296832</td>\n",
       "      <td>0.458968</td>\n",
       "      <td>...</td>\n",
       "      <td>1.082233</td>\n",
       "      <td>-1.233869</td>\n",
       "      <td>0.926821</td>\n",
       "      <td>-2.922268</td>\n",
       "      <td>0.82208</td>\n",
       "      <td>0.663733</td>\n",
       "      <td>0.791547</td>\n",
       "      <td>0.271506</td>\n",
       "      <td>-1.028122</td>\n",
       "      <td>-1.028122</td>\n",
       "    </tr>\n",
       "  </tbody>\n",
       "</table>\n",
       "<p>5 rows × 25 columns</p>\n",
       "</div>"
      ],
      "text/plain": [
       "         0         1         2         3         4         5         6   \\\n",
       "0 -1.118645  1.843821 -0.520411  1.073683 -1.235063  1.686130 -0.908217   \n",
       "1 -1.118645  1.616807 -0.520411  1.057097 -1.235063  1.704566 -0.908217   \n",
       "2 -1.118645  1.517959 -0.520411  1.033550 -1.235063  1.748608 -0.944115   \n",
       "3 -1.118645  1.459321 -0.520411  1.024540 -1.235063  1.769092 -0.962063   \n",
       "4 -1.118645  1.526336 -0.520411  1.009797 -1.235063  1.769092 -0.962063   \n",
       "\n",
       "         7         8         9     ...           15        16        17  \\\n",
       "0  1.506438 -1.314903  0.471160    ...     1.141572 -1.217324  0.958136   \n",
       "1  1.604528 -1.314903  0.471160    ...     1.134554 -1.200778  0.965363   \n",
       "2  1.580918 -1.314903  0.458968    ...     1.109032 -1.233869  0.950910   \n",
       "3  1.542526 -1.314903  0.458968    ...     1.082233 -1.233869  0.926821   \n",
       "4  1.497991 -1.296832  0.458968    ...     1.082233 -1.233869  0.926821   \n",
       "\n",
       "         18       19        20        21        22        23        24  \n",
       "0 -2.976328  0.82208  1.207694  2.091596  0.366854 -0.807974 -0.807974  \n",
       "1 -2.962813  0.82208  1.071703  1.766584  0.343017 -0.440240 -0.440240  \n",
       "2 -2.949298  0.82208  0.935713  1.441572  0.319180  0.252109  0.252109  \n",
       "3 -2.935783  0.82208  0.799723  1.116559  0.295343  1.408801  1.408801  \n",
       "4 -2.922268  0.82208  0.663733  0.791547  0.271506 -1.028122 -1.028122  \n",
       "\n",
       "[5 rows x 25 columns]"
      ]
     },
     "execution_count": 217,
     "metadata": {},
     "output_type": "execute_result"
    }
   ],
   "source": [
    "\n",
    "\n",
    "\n",
    "# Building the model with Polynomial Features \n",
    "\n",
    "# Polynomial features\n",
    "# We can try Polynomial Rergession \n",
    "from sklearn.preprocessing import PolynomialFeatures\n",
    "pd.DataFrame(X).head()"
   ]
  },
  {
   "cell_type": "code",
   "execution_count": 223,
   "metadata": {},
   "outputs": [
    {
     "name": "stdout",
     "output_type": "stream",
     "text": [
      "<class 'numpy.ndarray'>\n"
     ]
    }
   ],
   "source": [
    "poly = PolynomialFeatures(2)\n",
    "\n",
    "poly\n",
    "print(type(X))"
   ]
  },
  {
   "cell_type": "code",
   "execution_count": 236,
   "metadata": {},
   "outputs": [
    {
     "name": "stdout",
     "output_type": "stream",
     "text": [
      "<class 'numpy.ndarray'>\n",
      "<class 'numpy.ndarray'>\n"
     ]
    }
   ],
   "source": [
    "\n",
    "\n",
    "Xpoly = poly.fit_transform(X)\n",
    "print(type(X))\n",
    "print(type(Xpoly))\n"
   ]
  },
  {
   "cell_type": "code",
   "execution_count": 221,
   "metadata": {},
   "outputs": [
    {
     "name": "stdout",
     "output_type": "stream",
     "text": [
      "(19735, 351)\n",
      "(19735,)\n"
     ]
    }
   ],
   "source": [
    "# Polynomial of order 2 (25+25+25c2)\n",
    "print(Xpoly.shape)\n",
    "print(y.shape)"
   ]
  },
  {
   "cell_type": "code",
   "execution_count": 233,
   "metadata": {},
   "outputs": [
    {
     "name": "stdout",
     "output_type": "stream",
     "text": [
      "(14801, 351)\n",
      "(4934, 351)\n",
      "(14801,)\n",
      "(4934,)\n",
      "(19735, 29)\n"
     ]
    },
    {
     "data": {
      "text/plain": [
       "LinearRegression(copy_X=True, fit_intercept=True, n_jobs=1, normalize=False)"
      ]
     },
     "execution_count": 233,
     "metadata": {},
     "output_type": "execute_result"
    }
   ],
   "source": [
    "Xp_train, Xp_test, yp_train, yp_test = train_test_split(Xpoly,y, test_size=0.25, random_state=101)\n",
    "parameters = {'alpha': np.concatenate((np.arange(0.1,2,0.1), np.arange(2, 5, 0.5), np.arange(5, 25, 1)))}\n",
    "\n",
    "print(np.shape(Xp_train))\n",
    "print(np.shape(Xp_test))\n",
    "print(np.shape(yp_train))\n",
    "print(np.shape(yp_test))\n",
    "print(data.shape)\n",
    "# The features increases to 351\n",
    "linear.fit(Xp_train,yp_train)\n"
   ]
  },
  {
   "cell_type": "code",
   "execution_count": 234,
   "metadata": {},
   "outputs": [
    {
     "name": "stdout",
     "output_type": "stream",
     "text": [
      "lasso Rsquared: 0.9147403216623731\n",
      "ridge Rsquared: 0.9997869583474664\n",
      "linear Rsquared: 0.9997874728466749\n",
      "Elastic Rsquared: 0.9121431151019972\n",
      "\n",
      "lasso MSE: 2.37637493207555\n",
      "ridge MSE: 0.005937939861373187\n",
      "linear MSE: 0.005923599635771666\n",
      "elastic MSE: 2.448764796591093\n",
      "\n"
     ]
    }
   ],
   "source": [
    "linear.fit(Xp_train,yp_train)\n",
    "lasso.fit(Xp_train,yp_train)\n",
    "ridge.fit(Xp_train,yp_train)\n",
    "elastic.fit(Xp_train,yp_train)\n",
    "# Print Rsquared, MSE, and Coefficients\n",
    "print(\"lasso Rsquared:\", lasso.score(Xp_test, yp_test))\n",
    "print(\"ridge Rsquared:\",ridge.score(Xp_test, yp_test))\n",
    "print(\"linear Rsquared:\",linear.score(Xp_test,yp_test))\n",
    "print(\"Elastic Rsquared:\",elastic.score(Xp_test,yp_test))\n",
    "print(\"\")\n",
    "\n",
    "print(\"lasso MSE:\", mean_squared_error(yp_test, lasso.predict(Xp_test)))\n",
    "print(\"ridge MSE:\", mean_squared_error(yp_test, ridge.predict(Xp_test)))\n",
    "print(\"linear MSE:\",mean_squared_error(yp_test,linear.predict(Xp_test)))\n",
    "print(\"elastic MSE:\",mean_squared_error(yp_test,elastic.predict(Xp_test)))\n",
    "print(\"\")\n",
    "\n"
   ]
  },
  {
   "cell_type": "code",
   "execution_count": 235,
   "metadata": {
    "scrolled": false
   },
   "outputs": [
    {
     "name": "stdout",
     "output_type": "stream",
     "text": [
      "ridge best parameters: {'alpha': 0.4}\n",
      "lasso best parameters: {'alpha': 0.1}\n",
      "elastic best parameters: {'alpha': 0.1}\n",
      "\n",
      "ridge score: 0.9997873741974482\n",
      "lasso score: 0.9975287744572969\n",
      "linear score: 0.9997874728466749\n",
      "elastic score: 0.9917315161276339\n",
      "\n",
      "ridge MSE: 0.005926349206897289\n",
      "lasso MSE: 0.06887849620930048\n",
      "linear MSE: 0.005923599635771666\n",
      "elastic MSE: 0.23046084835966657\n",
      "\n",
      "ridge best estimator coef: [ 0.    0.01 -0.01  0.03  0.01  0.01 -0.01  0.01  0.    0.01  0.    0.08\n",
      "  0.03  0.01 -0.   -0.01  0.01 -0.03 -0.01  0.   -2.79  0.01  0.    4.24\n",
      " -0.   -0.    0.01 -0.07  0.01 -0.02  0.03  0.   -0.05 -0.01  0.09 -0.01\n",
      "  0.11  0.08  0.03 -0.03 -0.04  0.01 -0.04 -0.   -0.   -0.05  0.02  0.\n",
      " -0.02  0.    0.    0.01  0.11  0.05  0.02 -0.02 -0.01  0.01 -0.03 -0.01\n",
      " -0.22 -0.09  0.03 -0.02 -0.01 -0.02 -0.05 -0.02 -0.   -0.03  0.01 -0.01\n",
      "  0.16  0.    0.   -0.04 -0.08 -0.02  0.01  0.07  0.05 -0.1   0.01  0.06\n",
      " -0.05  0.04  0.02  0.04  0.01  0.    0.    0.02  0.11 -0.03 -0.   -0.11\n",
      " -0.   -0.   -0.05 -0.04 -0.01  0.06  0.07 -0.01  0.    0.09 -0.01  0.08\n",
      "  0.04  0.03  0.02 -0.01 -0.03  0.03  0.12  0.01  0.   -0.1  -0.   -0.\n",
      " -0.04  0.02 -0.04  0.01  0.01  0.    0.02  0.02 -0.01 -0.04  0.01  0.02\n",
      "  0.12 -0.01 -0.   -0.01 -0.01  0.   -0.02  0.    0.    0.02 -0.01 -0.04\n",
      "  0.02  0.01  0.09  0.05 -0.03  0.   -0.   -0.02  0.01  0.02 -0.   -0.01\n",
      " -0.01  0.01 -0.04  0.    0.    0.02 -0.06  0.03  0.   -0.03  0.   -0.02\n",
      "  0.05  0.01 -0.01 -0.01  0.    0.   -0.02  0.    0.    0.03  0.    0.\n",
      " -0.02  0.02 -0.01 -0.05  0.02 -0.03  0.02 -0.03  0.03  0.06 -0.04  0.01\n",
      " -0.06 -0.01 -0.    0.04  0.    0.    0.01 -0.01  0.06  0.11 -0.04 -0.02\n",
      " -0.03 -0.04  0.03  0.02 -0.03 -0.08 -0.03 -0.    0.01 -0.   -0.   -0.\n",
      " -0.01 -0.02  0.03  0.    0.    0.01 -0.02 -0.    0.    0.02  0.   -0.\n",
      "  0.    0.    0.    0.23  0.14  0.02 -0.    0.02 -0.01 -0.13  0.08 -0.04\n",
      "  0.02  0.08  0.02 -0.4   0.    0.    0.02 -0.14 -0.01  0.01 -0.02  0.03\n",
      "  0.02 -0.02 -0.04  0.04 -0.   -0.14  0.    0.   -0.03  0.05  0.04  0.02\n",
      " -0.03 -0.02  0.01  0.06  0.01  0.   -0.07 -0.   -0.   -0.02 -0.01 -0.01\n",
      " -0.02  0.02 -0.02  0.01 -0.01 -0.01  0.01  0.    0.    0.01  0.01 -0.07\n",
      "  0.02 -0.    0.03 -0.01 -0.   -0.    0.    0.   -0.   -0.04  0.04 -0.01\n",
      " -0.02  0.    0.   -0.03 -0.   -0.   -0.   -0.   -0.   -0.04  0.02 -0.01\n",
      "  0.07  0.    0.   -0.02  0.02  0.04  0.    0.   -0.01 -0.   -0.   -0.\n",
      " -0.   -0.01  0.    0.01 -0.   -0.    0.34  0.01  0.01 -0.13 -0.   -0.\n",
      " -0.01  0.   -0.02 -0.   -0.   -0.   -0.01 -0.   -0.    0.15 -0.   -0.\n",
      "  0.    0.    0.  ]\n",
      "lasso best estimator coef: [ 0.    0.02  0.    0.    0.    0.    0.    0.    0.    0.    0.    0.82\n",
      " -0.    0.    0.    0.    0.    0.    0.   -0.   -2.26  0.   -0.    3.55\n",
      " -0.   -0.    0.   -0.    0.   -0.    0.   -0.    0.   -0.    0.   -0.\n",
      "  0.   -0.    0.   -0.    0.   -0.    0.   -0.   -0.   -0.   -0.    0.\n",
      "  0.   -0.   -0.    0.   -0.    0.   -0.    0.   -0.    0.   -0.    0.\n",
      " -0.    0.   -0.    0.   -0.    0.   -0.    0.   -0.    0.    0.   -0.\n",
      "  0.    0.    0.    0.   -0.    0.   -0.    0.   -0.    0.   -0.    0.\n",
      " -0.    0.   -0.    0.   -0.    0.   -0.   -0.   -0.   -0.    0.    0.\n",
      " -0.   -0.    0.   -0.    0.   -0.    0.   -0.    0.   -0.    0.   -0.\n",
      "  0.   -0.    0.   -0.    0.   -0.    0.    0.   -0.    0.    0.    0.\n",
      "  0.   -0.    0.   -0.    0.    0.    0.   -0.    0.    0.    0.   -0.\n",
      "  0.   -0.   -0.   -0.   -0.    0.    0.   -0.   -0.    0.   -0.    0.\n",
      " -0.    0.   -0.    0.   -0.    0.   -0.    0.   -0.    0.   -0.    0.\n",
      "  0.   -0.    0.    0.    0.    0.   -0.    0.    0.    0.   -0.    0.\n",
      " -0.    0.   -0.    0.   -0.   -0.   -0.   -0.    0.    0.   -0.   -0.\n",
      "  0.   -0.    0.   -0.    0.   -0.    0.   -0.    0.   -0.    0.   -0.\n",
      "  0.    0.   -0.    0.   -0.   -0.    0.   -0.    0.   -0.    0.   -0.\n",
      "  0.   -0.    0.   -0.   -0.   -0.   -0.   -0.    0.   -0.   -0.    0.\n",
      " -0.   -0.   -0.    0.    0.    0.    0.    0.    0.    0.    0.   -0.\n",
      "  0.    0.    0.    0.   -0.    0.   -0.    0.   -0.    0.   -0.   -0.\n",
      " -0.06 -0.    0.    0.   -0.   -0.    0.   -0.    0.   -0.    0.   -0.\n",
      "  0.    0.    0.    0.   -0.   -0.    0.    0.    0.   -0.    0.   -0.\n",
      "  0.   -0.   -0.   -0.   -0.    0.    0.   -0.   -0.    0.   -0.    0.\n",
      "  0.    0.   -0.    0.    0.   -0.    0.   -0.   -0.    0.   -0.    0.\n",
      " -0.   -0.   -0.   -0.    0.    0.   -0.   -0.    0.   -0.    0.   -0.\n",
      "  0.    0.   -0.    0.   -0.   -0.    0.   -0.   -0.   -0.   -0.    0.\n",
      "  0.   -0.   -0.    0.   -0.    0.    0.   -0.    0.   -0.   -0.   -0.\n",
      "  0.   -0.    0.   -0.    0.    0.    0.33  0.   -0.   -0.    0.    0.\n",
      "  0.    0.   -0.   -0.   -0.   -0.   -0.    0.    0.    0.   -0.   -0.\n",
      " -0.   -0.   -0.  ]\n",
      "linear coef: [-8.56182400e+04  1.00000000e-02 -1.00000000e-02  3.00000000e-02\n",
      "  1.00000000e-02  1.00000000e-02 -1.00000000e-02  1.00000000e-02\n",
      "  0.00000000e+00  1.00000000e-02  0.00000000e+00  8.00000000e-02\n",
      "  3.00000000e-02  1.00000000e-02 -0.00000000e+00 -1.00000000e-02\n",
      "  1.00000000e-02 -3.00000000e-02 -1.00000000e-02  0.00000000e+00\n",
      " -2.79000000e+00  1.00000000e-02  0.00000000e+00  4.25000000e+00\n",
      "  2.37999795e+09 -2.37999795e+09  1.00000000e-02 -8.00000000e-02\n",
      "  2.00000000e-02 -1.00000000e-02  3.00000000e-02  0.00000000e+00\n",
      " -5.00000000e-02 -1.00000000e-02  9.00000000e-02 -1.00000000e-02\n",
      "  1.00000000e-01  8.00000000e-02  3.00000000e-02 -4.00000000e-02\n",
      " -4.00000000e-02  1.00000000e-02 -4.00000000e-02 -0.00000000e+00\n",
      " -0.00000000e+00 -6.00000000e-02  2.00000000e-02  0.00000000e+00\n",
      " -1.00000000e-02 -3.00110407e+09  3.00110407e+09  1.00000000e-02\n",
      "  1.20000000e-01  5.00000000e-02  2.00000000e-02 -2.00000000e-02\n",
      " -2.00000000e-02  1.00000000e-02 -3.00000000e-02 -1.00000000e-02\n",
      " -2.40000000e-01 -9.00000000e-02  3.00000000e-02 -2.00000000e-02\n",
      " -1.00000000e-02 -2.00000000e-02 -5.00000000e-02 -2.00000000e-02\n",
      " -0.00000000e+00 -4.00000000e-02  0.00000000e+00 -1.00000000e-02\n",
      "  1.80000000e-01  3.56462087e+09 -3.56462087e+09 -5.00000000e-02\n",
      " -9.00000000e-02 -2.00000000e-02  1.00000000e-02  7.00000000e-02\n",
      "  5.00000000e-02 -1.00000000e-01  1.00000000e-02  7.00000000e-02\n",
      " -5.00000000e-02  3.00000000e-02  2.00000000e-02  4.00000000e-02\n",
      "  1.00000000e-02  1.00000000e-02  0.00000000e+00  2.00000000e-02\n",
      "  1.20000000e-01 -3.00000000e-02 -0.00000000e+00 -1.30000000e-01\n",
      " -2.92022902e+07  2.92022902e+07 -5.00000000e-02 -4.00000000e-02\n",
      " -1.00000000e-02  6.00000000e-02  7.00000000e-02 -1.00000000e-02\n",
      "  0.00000000e+00  1.10000000e-01 -1.00000000e-02  8.00000000e-02\n",
      "  4.00000000e-02  3.00000000e-02  2.00000000e-02 -1.00000000e-02\n",
      " -3.00000000e-02  3.00000000e-02  1.30000000e-01  1.00000000e-02\n",
      "  1.00000000e-02 -1.20000000e-01  1.31561996e+08 -1.31561996e+08\n",
      " -4.00000000e-02  2.00000000e-02 -4.00000000e-02  1.00000000e-02\n",
      "  1.00000000e-02  0.00000000e+00  2.00000000e-02  2.00000000e-02\n",
      " -1.00000000e-02 -4.00000000e-02  1.00000000e-02  2.00000000e-02\n",
      "  1.20000000e-01 -1.00000000e-02 -0.00000000e+00 -1.00000000e-02\n",
      " -1.00000000e-02  0.00000000e+00 -2.00000000e-02  9.87458533e+08\n",
      " -9.87458533e+08  2.00000000e-02 -1.00000000e-02 -4.00000000e-02\n",
      "  2.00000000e-02  1.00000000e-02  9.00000000e-02  6.00000000e-02\n",
      " -3.00000000e-02  0.00000000e+00 -0.00000000e+00 -2.00000000e-02\n",
      "  1.00000000e-02  2.00000000e-02 -1.00000000e-02 -1.00000000e-02\n",
      " -1.00000000e-02  1.00000000e-02 -4.00000000e-02 -2.56633099e+09\n",
      "  2.56633099e+09  2.00000000e-02 -6.00000000e-02  3.00000000e-02\n",
      "  0.00000000e+00 -3.00000000e-02  0.00000000e+00 -2.00000000e-02\n",
      "  4.00000000e-02  1.00000000e-02 -1.00000000e-02 -1.00000000e-02\n",
      "  0.00000000e+00  0.00000000e+00 -2.00000000e-02  0.00000000e+00\n",
      "  0.00000000e+00  3.00000000e-02  1.63816973e+08 -1.63816973e+08\n",
      " -2.00000000e-02  2.00000000e-02 -1.00000000e-02 -5.00000000e-02\n",
      "  2.00000000e-02 -3.00000000e-02  2.00000000e-02 -3.00000000e-02\n",
      "  3.00000000e-02  6.00000000e-02 -4.00000000e-02  1.00000000e-02\n",
      " -6.00000000e-02 -1.00000000e-02 -0.00000000e+00  4.00000000e-02\n",
      "  8.41394414e+07 -8.41394414e+07  1.00000000e-02 -1.00000000e-02\n",
      "  6.00000000e-02  1.10000000e-01 -4.00000000e-02 -2.00000000e-02\n",
      " -3.00000000e-02 -4.00000000e-02  3.00000000e-02  2.00000000e-02\n",
      " -3.00000000e-02 -8.00000000e-02 -3.00000000e-02 -0.00000000e+00\n",
      "  0.00000000e+00 -1.38081805e+09  1.38081805e+09 -0.00000000e+00\n",
      " -1.00000000e-02 -2.00000000e-02  3.00000000e-02  0.00000000e+00\n",
      " -0.00000000e+00  1.00000000e-02 -2.00000000e-02 -0.00000000e+00\n",
      "  0.00000000e+00  2.00000000e-02  0.00000000e+00 -0.00000000e+00\n",
      "  0.00000000e+00  1.97886968e+09 -1.97886968e+09  2.40000000e-01\n",
      "  1.40000000e-01  3.00000000e-02 -1.00000000e-02  2.00000000e-02\n",
      " -0.00000000e+00 -1.40000000e-01  8.00000000e-02 -4.00000000e-02\n",
      "  2.00000000e-02  7.00000000e-02  2.00000000e-02 -4.10000000e-01\n",
      "  2.31224944e+09 -2.31224944e+09  2.00000000e-02 -1.40000000e-01\n",
      " -1.00000000e-02  1.00000000e-02 -2.00000000e-02  3.00000000e-02\n",
      "  2.00000000e-02 -2.00000000e-02 -4.00000000e-02  4.00000000e-02\n",
      " -0.00000000e+00 -1.40000000e-01 -1.24622083e+08  1.24622083e+08\n",
      " -3.00000000e-02  5.00000000e-02  4.00000000e-02  2.00000000e-02\n",
      " -3.00000000e-02 -2.00000000e-02  1.00000000e-02  6.00000000e-02\n",
      "  1.00000000e-02  0.00000000e+00 -7.00000000e-02 -1.13555443e+09\n",
      "  1.13555443e+09 -2.00000000e-02 -1.00000000e-02 -1.00000000e-02\n",
      " -2.00000000e-02  2.00000000e-02 -2.00000000e-02  1.00000000e-02\n",
      " -1.00000000e-02 -1.00000000e-02  1.00000000e-02 -9.98370645e+07\n",
      "  9.98370645e+07  1.00000000e-02  1.00000000e-02 -7.00000000e-02\n",
      "  2.00000000e-02 -0.00000000e+00  3.00000000e-02 -1.00000000e-02\n",
      " -0.00000000e+00 -0.00000000e+00 -5.06361210e+07  5.06361210e+07\n",
      " -0.00000000e+00 -4.00000000e-02  4.00000000e-02 -1.00000000e-02\n",
      " -2.00000000e-02  0.00000000e+00  0.00000000e+00 -3.00000000e-02\n",
      " -2.22010153e+09  2.22010153e+09 -0.00000000e+00  0.00000000e+00\n",
      " -0.00000000e+00 -5.00000000e-02  2.00000000e-02 -1.00000000e-02\n",
      "  8.00000000e-02  2.98160621e+07 -2.98160621e+07 -2.00000000e-02\n",
      "  2.00000000e-02  4.00000000e-02  0.00000000e+00  0.00000000e+00\n",
      " -1.00000000e-02 -2.48410128e+08  2.48410128e+08 -0.00000000e+00\n",
      " -0.00000000e+00 -1.00000000e-02  0.00000000e+00  1.00000000e-02\n",
      " -6.01949136e+08  6.01949136e+08  3.50000000e-01  1.00000000e-02\n",
      "  1.00000000e-02 -1.40000000e-01  3.01319820e+06 -3.01319820e+06\n",
      " -1.00000000e-02  0.00000000e+00 -2.00000000e-02  2.37836803e+08\n",
      " -2.37836803e+08 -0.00000000e+00 -1.00000000e-02  3.25440290e+05\n",
      " -3.25440290e+05  1.60000000e-01  1.24859300e+05 -1.24859310e+05\n",
      " -3.75006273e+09  1.21793723e+09  2.53212550e+09]\n",
      "elastic coeff: [ 0.    0.18  0.03  0.    0.    0.06  0.    0.04  0.11  0.02 -0.    1.66\n",
      " -0.12  0.03  0.07  0.    0.    0.    0.   -0.   -1.56  0.08  0.    2.4\n",
      " -0.   -0.    0.   -0.    0.   -0.    0.   -0.    0.   -0.    0.    0.\n",
      "  0.   -0.    0.    0.    0.01  0.    0.   -0.   -0.   -0.09 -0.03  0.\n",
      "  0.   -0.   -0.    0.   -0.    0.   -0.    0.   -0.    0.   -0.    0.\n",
      " -0.    0.   -0.    0.   -0.    0.   -0.    0.    0.    0.    0.   -0.\n",
      " -0.    0.    0.   -0.   -0.    0.   -0.    0.   -0.    0.    0.   -0.\n",
      " -0.    0.   -0.    0.    0.    0.   -0.   -0.   -0.   -0.    0.   -0.\n",
      " -0.   -0.    0.   -0.    0.   -0.    0.   -0.    0.   -0.    0.   -0.\n",
      "  0.   -0.    0.   -0.    0.    0.    0.03  0.   -0.    0.    0.    0.\n",
      "  0.   -0.    0.   -0.    0.    0.   -0.   -0.    0.    0.    0.    0.\n",
      "  0.   -0.   -0.   -0.   -0.   -0.   -0.   -0.   -0.   -0.   -0.    0.\n",
      "  0.   -0.    0.    0.   -0.    0.   -0.    0.    0.    0.    0.    0.\n",
      "  0.   -0.    0.    0.    0.    0.   -0.    0.    0.   -0.   -0.    0.\n",
      "  0.    0.    0.    0.   -0.   -0.03 -0.   -0.    0.    0.   -0.   -0.\n",
      "  0.   -0.    0.   -0.    0.   -0.    0.   -0.    0.   -0.    0.    0.\n",
      "  0.    0.   -0.    0.    0.    0.    0.    0.   -0.   -0.    0.    0.\n",
      "  0.    0.    0.   -0.   -0.   -0.   -0.   -0.    0.   -0.   -0.    0.\n",
      "  0.   -0.    0.    0.    0.    0.    0.    0.    0.    0.    0.    0.\n",
      "  0.    0.    0.   -0.    0.    0.    0.   -0.    0.   -0.    0.   -0.\n",
      " -0.   -0.    0.   -0.01 -0.   -0.   -0.   -0.   -0.   -0.   -0.    0.\n",
      "  0.    0.    0.    0.01 -0.    0.    0.    0.    0.    0.    0.    0.\n",
      "  0.   -0.   -0.   -0.   -0.    0.    0.   -0.   -0.    0.    0.    0.\n",
      "  0.    0.    0.   -0.    0.   -0.    0.   -0.   -0.    0.04  0.    0.\n",
      " -0.   -0.   -0.   -0.    0.    0.   -0.   -0.    0.    0.    0.    0.\n",
      "  0.    0.   -0.    0.01 -0.   -0.    0.   -0.   -0.01 -0.   -0.    0.\n",
      " -0.   -0.   -0.    0.    0.    0.    0.   -0.    0.    0.    0.   -0.\n",
      "  0.    0.    0.   -0.    0.    0.    0.3   0.05 -0.   -0.    0.    0.\n",
      "  0.    0.   -0.   -0.   -0.   -0.05 -0.    0.    0.   -0.   -0.   -0.\n",
      " -0.   -0.   -0.  ]\n"
     ]
    }
   ],
   "source": [
    "# Mappin the model on grid search\n",
    "\n",
    "gridlasso = GridSearchCV(lasso, parameters,scoring=\"r2\")\n",
    "gridridge = GridSearchCV(ridge, parameters, scoring ='r2')\n",
    "gridelastic=GridSearchCV(elastic,parameters,scoring=\"r2\")\n",
    "\n",
    "\n",
    "\n",
    "gridlasso.fit(Xp_train,yp_train)\n",
    "gridridge.fit(Xp_train,yp_train)\n",
    "gridelastic.fit(Xp_train,yp_train)\n",
    "linear.fit(Xp_train,yp_train)\n",
    "\n",
    "\n",
    "# In[180]:\n",
    "\n",
    "\n",
    "# Print the best parameters, R-squared scores, MSE, and coefficients\n",
    "\n",
    "print(\"ridge best parameters:\", gridridge.best_params_)\n",
    "print(\"lasso best parameters:\", gridlasso.best_params_)\n",
    "print(\"elastic best parameters:\",gridelastic.best_params_)\n",
    "print(\"\")\n",
    "print(\"ridge score:\", gridridge.score(Xp_test, yp_test))\n",
    "print(\"lasso score:\", gridlasso.score(Xp_test, yp_test))\n",
    "print(\"linear score:\", linear.score(Xp_test, yp_test))\n",
    "print(\"elastic score:\",gridelastic.score(Xp_test,yp_test))\n",
    "print(\"\")\n",
    "\n",
    "print(\"ridge MSE:\", mean_squared_error(yp_test, gridridge.predict(Xp_test)))\n",
    "print(\"lasso MSE:\", mean_squared_error(yp_test, gridlasso.predict(Xp_test)))\n",
    "print(\"linear MSE:\", mean_squared_error(yp_test, linear.predict(Xp_test)))\n",
    "print(\"elastic MSE:\", mean_squared_error(yp_test,gridelastic.predict(Xp_test)))\n",
    "print(\"\")\n",
    "\n",
    "\n",
    "print(\"ridge best estimator coef:\", np.round(gridridge.best_estimator_.coef_,2))\n",
    "print(\"lasso best estimator coef:\", np.round(gridlasso.best_estimator_.coef_,2))\n",
    "print(\"linear coef:\", np.round(linear.coef_,2))\n",
    "print(\"elastic coeff:\",np.round(gridelastic.best_estimator_.coef_,2))\n",
    "\n"
   ]
  },
  {
   "cell_type": "code",
   "execution_count": 238,
   "metadata": {},
   "outputs": [],
   "source": [
    "a=data.iloc[:,[3,4,5,6,7,8,9,10,11,12,13,14,15,16,17,18,19,20,22,23,24,25,26,27,28]]\n"
   ]
  },
  {
   "cell_type": "code",
   "execution_count": 239,
   "metadata": {},
   "outputs": [
    {
     "data": {
      "text/plain": [
       "Index(['T1', 'RH_1', 'T2', 'RH_2', 'T3', 'RH_3', 'T4', 'RH_4', 'T5', 'RH_5',\n",
       "       'T6', 'RH_6', 'T7', 'RH_7', 'T8', 'RH_8', 'T9', 'RH_9', 'Press_mm_hg',\n",
       "       'RH_out', 'Windspeed', 'Visibility', 'Tdewpoint', 'rv1', 'rv2'],\n",
       "      dtype='object')"
      ]
     },
     "execution_count": 239,
     "metadata": {},
     "output_type": "execute_result"
    }
   ],
   "source": [
    "a.columns"
   ]
  },
  {
   "cell_type": "code",
   "execution_count": 243,
   "metadata": {},
   "outputs": [
    {
     "name": "stdout",
     "output_type": "stream",
     "text": [
      "['intercept', 'T1', 'RH_1', 'T2', 'RH_2', 'T3', 'RH_3', 'T4', 'RH_4', 'T5', 'RH_5', 'T6', 'RH_6', 'T7', 'RH_7', 'T8', 'RH_8', 'T9', 'RH_9', 'Press_mm_hg', 'RH_out', 'Windspeed', 'Visibility', 'Tdewpoint', 'rv1', 'rv2']\n"
     ]
    }
   ],
   "source": [
    "featurenames = ['intercept'] + list(a.columns)\n",
    "\n",
    "featurenames\n",
    "polyfeaturenames = [];\n",
    "for i,a in enumerate(featurenames):\n",
    "    for y in featurenames[i:]:\n",
    "        if (a == 'intercept'):\n",
    "            polyfeaturenames.append(y)\n",
    "        elif (a==y):\n",
    "            polyfeaturenames.append((y+'_Square'))\n",
    "        else:\n",
    "            polyfeaturenames.append((a+'_'+y))\n",
    "\n",
    "print(featurenames)"
   ]
  },
  {
   "cell_type": "code",
   "execution_count": 244,
   "metadata": {},
   "outputs": [
    {
     "name": "stdout",
     "output_type": "stream",
     "text": [
      "['intercept', 'T1', 'RH_1', 'T2', 'RH_2', 'T3', 'RH_3', 'T4', 'RH_4', 'T5', 'RH_5', 'T6', 'RH_6', 'T7', 'RH_7', 'T8', 'RH_8', 'T9', 'RH_9', 'Press_mm_hg', 'RH_out', 'Windspeed', 'Visibility', 'Tdewpoint', 'rv1', 'rv2', 'T1_Square', 'T1_RH_1', 'T1_T2', 'T1_RH_2', 'T1_T3', 'T1_RH_3', 'T1_T4', 'T1_RH_4', 'T1_T5', 'T1_RH_5', 'T1_T6', 'T1_RH_6', 'T1_T7', 'T1_RH_7', 'T1_T8', 'T1_RH_8', 'T1_T9', 'T1_RH_9', 'T1_Press_mm_hg', 'T1_RH_out', 'T1_Windspeed', 'T1_Visibility', 'T1_Tdewpoint', 'T1_rv1', 'T1_rv2', 'RH_1_Square', 'RH_1_T2', 'RH_1_RH_2', 'RH_1_T3', 'RH_1_RH_3', 'RH_1_T4', 'RH_1_RH_4', 'RH_1_T5', 'RH_1_RH_5', 'RH_1_T6', 'RH_1_RH_6', 'RH_1_T7', 'RH_1_RH_7', 'RH_1_T8', 'RH_1_RH_8', 'RH_1_T9', 'RH_1_RH_9', 'RH_1_Press_mm_hg', 'RH_1_RH_out', 'RH_1_Windspeed', 'RH_1_Visibility', 'RH_1_Tdewpoint', 'RH_1_rv1', 'RH_1_rv2', 'T2_Square', 'T2_RH_2', 'T2_T3', 'T2_RH_3', 'T2_T4', 'T2_RH_4', 'T2_T5', 'T2_RH_5', 'T2_T6', 'T2_RH_6', 'T2_T7', 'T2_RH_7', 'T2_T8', 'T2_RH_8', 'T2_T9', 'T2_RH_9', 'T2_Press_mm_hg', 'T2_RH_out', 'T2_Windspeed', 'T2_Visibility', 'T2_Tdewpoint', 'T2_rv1', 'T2_rv2', 'RH_2_Square', 'RH_2_T3', 'RH_2_RH_3', 'RH_2_T4', 'RH_2_RH_4', 'RH_2_T5', 'RH_2_RH_5', 'RH_2_T6', 'RH_2_RH_6', 'RH_2_T7', 'RH_2_RH_7', 'RH_2_T8', 'RH_2_RH_8', 'RH_2_T9', 'RH_2_RH_9', 'RH_2_Press_mm_hg', 'RH_2_RH_out', 'RH_2_Windspeed', 'RH_2_Visibility', 'RH_2_Tdewpoint', 'RH_2_rv1', 'RH_2_rv2', 'T3_Square', 'T3_RH_3', 'T3_T4', 'T3_RH_4', 'T3_T5', 'T3_RH_5', 'T3_T6', 'T3_RH_6', 'T3_T7', 'T3_RH_7', 'T3_T8', 'T3_RH_8', 'T3_T9', 'T3_RH_9', 'T3_Press_mm_hg', 'T3_RH_out', 'T3_Windspeed', 'T3_Visibility', 'T3_Tdewpoint', 'T3_rv1', 'T3_rv2', 'RH_3_Square', 'RH_3_T4', 'RH_3_RH_4', 'RH_3_T5', 'RH_3_RH_5', 'RH_3_T6', 'RH_3_RH_6', 'RH_3_T7', 'RH_3_RH_7', 'RH_3_T8', 'RH_3_RH_8', 'RH_3_T9', 'RH_3_RH_9', 'RH_3_Press_mm_hg', 'RH_3_RH_out', 'RH_3_Windspeed', 'RH_3_Visibility', 'RH_3_Tdewpoint', 'RH_3_rv1', 'RH_3_rv2', 'T4_Square', 'T4_RH_4', 'T4_T5', 'T4_RH_5', 'T4_T6', 'T4_RH_6', 'T4_T7', 'T4_RH_7', 'T4_T8', 'T4_RH_8', 'T4_T9', 'T4_RH_9', 'T4_Press_mm_hg', 'T4_RH_out', 'T4_Windspeed', 'T4_Visibility', 'T4_Tdewpoint', 'T4_rv1', 'T4_rv2', 'RH_4_Square', 'RH_4_T5', 'RH_4_RH_5', 'RH_4_T6', 'RH_4_RH_6', 'RH_4_T7', 'RH_4_RH_7', 'RH_4_T8', 'RH_4_RH_8', 'RH_4_T9', 'RH_4_RH_9', 'RH_4_Press_mm_hg', 'RH_4_RH_out', 'RH_4_Windspeed', 'RH_4_Visibility', 'RH_4_Tdewpoint', 'RH_4_rv1', 'RH_4_rv2', 'T5_Square', 'T5_RH_5', 'T5_T6', 'T5_RH_6', 'T5_T7', 'T5_RH_7', 'T5_T8', 'T5_RH_8', 'T5_T9', 'T5_RH_9', 'T5_Press_mm_hg', 'T5_RH_out', 'T5_Windspeed', 'T5_Visibility', 'T5_Tdewpoint', 'T5_rv1', 'T5_rv2', 'RH_5_Square', 'RH_5_T6', 'RH_5_RH_6', 'RH_5_T7', 'RH_5_RH_7', 'RH_5_T8', 'RH_5_RH_8', 'RH_5_T9', 'RH_5_RH_9', 'RH_5_Press_mm_hg', 'RH_5_RH_out', 'RH_5_Windspeed', 'RH_5_Visibility', 'RH_5_Tdewpoint', 'RH_5_rv1', 'RH_5_rv2', 'T6_Square', 'T6_RH_6', 'T6_T7', 'T6_RH_7', 'T6_T8', 'T6_RH_8', 'T6_T9', 'T6_RH_9', 'T6_Press_mm_hg', 'T6_RH_out', 'T6_Windspeed', 'T6_Visibility', 'T6_Tdewpoint', 'T6_rv1', 'T6_rv2', 'RH_6_Square', 'RH_6_T7', 'RH_6_RH_7', 'RH_6_T8', 'RH_6_RH_8', 'RH_6_T9', 'RH_6_RH_9', 'RH_6_Press_mm_hg', 'RH_6_RH_out', 'RH_6_Windspeed', 'RH_6_Visibility', 'RH_6_Tdewpoint', 'RH_6_rv1', 'RH_6_rv2', 'T7_Square', 'T7_RH_7', 'T7_T8', 'T7_RH_8', 'T7_T9', 'T7_RH_9', 'T7_Press_mm_hg', 'T7_RH_out', 'T7_Windspeed', 'T7_Visibility', 'T7_Tdewpoint', 'T7_rv1', 'T7_rv2', 'RH_7_Square', 'RH_7_T8', 'RH_7_RH_8', 'RH_7_T9', 'RH_7_RH_9', 'RH_7_Press_mm_hg', 'RH_7_RH_out', 'RH_7_Windspeed', 'RH_7_Visibility', 'RH_7_Tdewpoint', 'RH_7_rv1', 'RH_7_rv2', 'T8_Square', 'T8_RH_8', 'T8_T9', 'T8_RH_9', 'T8_Press_mm_hg', 'T8_RH_out', 'T8_Windspeed', 'T8_Visibility', 'T8_Tdewpoint', 'T8_rv1', 'T8_rv2', 'RH_8_Square', 'RH_8_T9', 'RH_8_RH_9', 'RH_8_Press_mm_hg', 'RH_8_RH_out', 'RH_8_Windspeed', 'RH_8_Visibility', 'RH_8_Tdewpoint', 'RH_8_rv1', 'RH_8_rv2', 'T9_Square', 'T9_RH_9', 'T9_Press_mm_hg', 'T9_RH_out', 'T9_Windspeed', 'T9_Visibility', 'T9_Tdewpoint', 'T9_rv1', 'T9_rv2', 'RH_9_Square', 'RH_9_Press_mm_hg', 'RH_9_RH_out', 'RH_9_Windspeed', 'RH_9_Visibility', 'RH_9_Tdewpoint', 'RH_9_rv1', 'RH_9_rv2', 'Press_mm_hg_Square', 'Press_mm_hg_RH_out', 'Press_mm_hg_Windspeed', 'Press_mm_hg_Visibility', 'Press_mm_hg_Tdewpoint', 'Press_mm_hg_rv1', 'Press_mm_hg_rv2', 'RH_out_Square', 'RH_out_Windspeed', 'RH_out_Visibility', 'RH_out_Tdewpoint', 'RH_out_rv1', 'RH_out_rv2', 'Windspeed_Square', 'Windspeed_Visibility', 'Windspeed_Tdewpoint', 'Windspeed_rv1', 'Windspeed_rv2', 'Visibility_Square', 'Visibility_Tdewpoint', 'Visibility_rv1', 'Visibility_rv2', 'Tdewpoint_Square', 'Tdewpoint_rv1', 'Tdewpoint_rv2', 'rv1_Square', 'rv1_rv2', 'rv2_Square']\n"
     ]
    }
   ],
   "source": [
    "print (polyfeaturenames)"
   ]
  },
  {
   "cell_type": "code",
   "execution_count": 251,
   "metadata": {
    "scrolled": true
   },
   "outputs": [
    {
     "data": {
      "text/plain": [
       "(array([11, 23], dtype=int64),)"
      ]
     },
     "execution_count": 251,
     "metadata": {},
     "output_type": "execute_result"
    }
   ],
   "source": [
    "np.where(lasso.coef_!=0)\n",
    "\n"
   ]
  },
  {
   "cell_type": "code",
   "execution_count": 252,
   "metadata": {},
   "outputs": [
    {
     "data": {
      "text/plain": [
       "['T6', 'Tdewpoint']"
      ]
     },
     "execution_count": 252,
     "metadata": {},
     "output_type": "execute_result"
    }
   ],
   "source": [
    "names = [polyfeaturenames[i] for i in list(np.where(lasso.coef_ != 0.0)[0])]\n",
    "names\n",
    "\n",
    "# Most important feature is T6, Tdewpoint"
   ]
  },
  {
   "cell_type": "code",
   "execution_count": 255,
   "metadata": {},
   "outputs": [
    {
     "data": {
      "text/plain": [
       "[<matplotlib.lines.Line2D at 0x1ec0017a940>]"
      ]
     },
     "execution_count": 255,
     "metadata": {},
     "output_type": "execute_result"
    },
    {
     "data": {
      "image/png": "[encoded data removed]",
      "text/plain": [
       "<Figure size 432x288 with 1 Axes>"
      ]
     },
     "metadata": {},
     "output_type": "display_data"
    }
   ],
   "source": [
    "plt.plot(df.T6,df.T_out,\"o\")"
   ]
  },
  {
   "cell_type": "code",
   "execution_count": 256,
   "metadata": {},
   "outputs": [
    {
     "data": {
      "text/plain": [
       "[<matplotlib.lines.Line2D at 0x1ec001d69e8>]"
      ]
     },
     "execution_count": 256,
     "metadata": {},
     "output_type": "execute_result"
    },
    {
     "data": {
      "image/png": "[encoded data removed]",
      "text/plain": [
       "<Figure size 432x288 with 1 Axes>"
      ]
     },
     "metadata": {},
     "output_type": "display_data"
    }
   ],
   "source": [
    "plt.plot(df.Tdewpoint,df.T_out)"
   ]
  },
  {
   "cell_type": "code",
   "execution_count": 257,
   "metadata": {},
   "outputs": [
    {
     "data": {
      "text/plain": [
       "[<matplotlib.lines.Line2D at 0x1ec0022dbe0>]"
      ]
     },
     "execution_count": 257,
     "metadata": {},
     "output_type": "execute_result"
    },
    {
     "data": {
      "image/png": "[encoded data removed]",
      "text/plain": [
       "<Figure size 432x288 with 1 Axes>"
      ]
     },
     "metadata": {},
     "output_type": "display_data"
    }
   ],
   "source": [
    "plt.plot(df.Windspeed,df.T_out)"
   ]
  },
  {
   "cell_type": "code",
   "execution_count": null,
   "metadata": {},
   "outputs": [],
   "source": [
    "# Key Conclusion : Most important feature is T6 & Tdewpoint"
   ]
  }
 ],
 "metadata": {
  "kernelspec": {
   "display_name": "Python 3",
   "language": "python",
   "name": "python3"
  },
  "language_info": {
   "codemirror_mode": {
    "name": "ipython",
    "version": 3
   },
   "file_extension": ".py",
   "mimetype": "text/x-python",
   "name": "python",
   "nbconvert_exporter": "python",
   "pygments_lexer": "ipython3",
   "version": "3.6.5"
  }
 },
 "nbformat": 4,
 "nbformat_minor": 2
}
